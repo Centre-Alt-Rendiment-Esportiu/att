{
 "cells": [
  {
   "cell_type": "markdown",
   "metadata": {},
   "source": [
    "<h1>CAR Classic predictor - Regressor</h1>\n",
    "<hr style=\"border: 1px solid #000;\">\n",
    "<span>\n",
    "<h2>ATT hit predictor.</h2>\n",
    "</span>\n",
    "<br>\n",
    "<span>\n",
    "This notebook shows how the hit predictor works.<br>\n",
    "The Hit predictor aim is to guess (x,y) coords from serial port readings.\n",
    "There are two steps: Train and Predict.\n",
    "</span>"
   ]
  },
  {
   "cell_type": "markdown",
   "metadata": {},
   "source": [
    "<span>\n",
    "Set modules path first:\n",
    "</span>"
   ]
  },
  {
   "cell_type": "code",
   "execution_count": 1,
   "metadata": {
    "collapsed": false
   },
   "outputs": [],
   "source": [
    "import sys\n",
    "#sys.path.insert(0, 'I:/git/att/src/python/')\n",
    "sys.path.insert(0, 'i:/dev/workspaces/python/att-workspace/att/src/python/')"
   ]
  },
  {
   "cell_type": "markdown",
   "metadata": {},
   "source": [
    "<span>\n",
    "Build a processor.\n",
    "</span>\n",
    "<br>\n",
    "<span>\n",
    "This is required by the regressor in order to parse the input raw data.<br>\n",
    "A ATTMatrixHitProcessor is needed here.\n",
    "</span>"
   ]
  },
  {
   "cell_type": "code",
   "execution_count": 2,
   "metadata": {
    "collapsed": false
   },
   "outputs": [],
   "source": [
    "from hit.process.processor import ATTMatrixHitProcessor\n",
    "\n",
    "matProcessor = ATTMatrixHitProcessor()"
   ]
  },
  {
   "cell_type": "markdown",
   "metadata": {},
   "source": [
    "<span>\n",
    "We build the regressor now, injecting the processor\n",
    "</span>"
   ]
  },
  {
   "cell_type": "code",
   "execution_count": 3,
   "metadata": {
    "collapsed": true
   },
   "outputs": [],
   "source": [
    "from hit.train.regressor import ATTClassicHitRegressor\n",
    "regressor = ATTClassicHitRegressor(matProcessor)"
   ]
  },
  {
   "cell_type": "markdown",
   "metadata": {},
   "source": [
    "<span>\n",
    "We define the training data source file\n",
    "</span>"
   ]
  },
  {
   "cell_type": "code",
   "execution_count": 4,
   "metadata": {
    "collapsed": true
   },
   "outputs": [],
   "source": [
    "TRAIN_VALUES_FILE_LEFT = \"train_data/train_points_20160129_left.txt\""
   ]
  },
  {
   "cell_type": "markdown",
   "metadata": {},
   "source": [
    "<span>\n",
    "And load the dataset\n",
    "</span>"
   ]
  },
  {
   "cell_type": "code",
   "execution_count": 5,
   "metadata": {
    "collapsed": false
   },
   "outputs": [
    {
     "name": "stdout",
     "output_type": "stream",
     "text": [
      "Train Values:  (324L, 8L, 8L) (324L, 2L)\n"
     ]
    }
   ],
   "source": [
    "import numpy as np\n",
    "\n",
    "(training_values, Y) = regressor.collect_train_hits_from_file(TRAIN_VALUES_FILE_LEFT)\n",
    "print \"Train Values: \", np.shape(training_values), np.shape(Y)"
   ]
  },
  {
   "cell_type": "markdown",
   "metadata": {},
   "source": [
    "<span>\n",
    "Now, train\n",
    "</span>"
   ]
  },
  {
   "cell_type": "code",
   "execution_count": 6,
   "metadata": {
    "collapsed": false
   },
   "outputs": [],
   "source": [
    "regressor.train(training_values, Y)"
   ]
  },
  {
   "cell_type": "markdown",
   "metadata": {},
   "source": [
    "<span>\n",
    "And finally test\n",
    "</span>"
   ]
  },
  {
   "cell_type": "code",
   "execution_count": 7,
   "metadata": {
    "collapsed": false
   },
   "outputs": [
    {
     "name": "stdout",
     "output_type": "stream",
     "text": [
      "(6,30)\n",
      "(4.4648323908724468, 33.669119912752038)\n"
     ]
    }
   ],
   "source": [
    "hit = \"hit: {1568:6 1416:5 3230:6 787:8 2757:4 0:13 980:4 3116:4 l}\"\n",
    "print '(6,30)'\n",
    "print regressor.predict(hit)"
   ]
  },
  {
   "cell_type": "code",
   "execution_count": null,
   "metadata": {
    "collapsed": true
   },
   "outputs": [],
   "source": []
  },
  {
   "cell_type": "code",
   "execution_count": null,
   "metadata": {
    "collapsed": true
   },
   "outputs": [],
   "source": []
  }
 ],
 "metadata": {
  "kernelspec": {
   "display_name": "Python 2",
   "language": "python",
   "name": "python2"
  },
  "language_info": {
   "codemirror_mode": {
    "name": "ipython",
    "version": 2
   },
   "file_extension": ".py",
   "mimetype": "text/x-python",
   "name": "python",
   "nbconvert_exporter": "python",
   "pygments_lexer": "ipython2",
   "version": "2.7.11"
  }
 },
 "nbformat": 4,
 "nbformat_minor": 0
}

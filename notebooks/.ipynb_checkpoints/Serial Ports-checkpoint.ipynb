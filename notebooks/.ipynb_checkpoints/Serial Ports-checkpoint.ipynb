{
 "cells": [
  {
   "cell_type": "markdown",
   "metadata": {},
   "source": [
    "<h1>Serial Ports</h1>\n",
    "<hr style=\"border: 1px solid #000;\">\n",
    "<span>\n",
    "<h2>Serial Port abstraction for ATT.</h2>\n",
    "</span>\n",
    "<br>\n",
    "<span>\n",
    "This notebook shows the ATT Serial Port abstraction module.<br>\n",
    "This module was created for enabling testing on ATT framework.\n",
    "The Serial Port abstraction provides an Abstract base class so it can be extended and implement whatever kind of serial port we need.\n",
    "We have used this class hierarchy to build some Mocks, in order to test the ATT framework.\n",
    "</span>\n"
   ]
  },
  {
   "cell_type": "markdown",
   "metadata": {},
   "source": [
    "Set modules path first:"
   ]
  },
  {
   "cell_type": "code",
   "execution_count": 1,
   "metadata": {
    "collapsed": true
   },
   "outputs": [],
   "source": [
    "import sys\n",
    "#sys.path.insert(0, '/home/asanso/workspace/att-spyder/att/src/python/')\n",
    "sys.path.insert(0, 'i:/dev/workspaces/python/att-workspace/att/src/python/')"
   ]
  },
  {
   "cell_type": "markdown",
   "metadata": {},
   "source": [
    "The main abstract base class is the following one:"
   ]
  },
  {
   "cell_type": "markdown",
   "metadata": {},
   "source": [
    "class SerialPort:\n",
    "\t__metaclass__ = abc.ABCMeta\n",
    "\t\n",
    "\t@abc.abstractmethod\n",
    "\tdef isOpen(self):\n",
    "\t\tpass\n",
    "\t\t\n",
    "\t@abc.abstractmethod\n",
    "\tdef readline(self):\n",
    "\t\tpass\n",
    "\t\t\n",
    "\t@abc.abstractmethod\n",
    "\tdef close(self):\n",
    "\t\tpass\n",
    "\t\n",
    "\t@abc.abstractmethod\n",
    "\tdef get_port(self):\n",
    "\t\treturn \"\"\n",
    "\t\t\n",
    "\t@abc.abstractmethod\n",
    "\tdef get_baudrate(self):\n",
    "\t\treturn 0"
   ]
  },
  {
   "cell_type": "markdown",
   "metadata": {},
   "source": [
    "As an example, we can see a dummy implementation:"
   ]
  },
  {
   "cell_type": "markdown",
   "metadata": {},
   "source": [
    "class DummySerialPort (SerialPort):\n",
    "\tdef __init__(self, port = None, baud = None):\n",
    "\t\tpass\n",
    "\t\n",
    "\tdef isOpen(self):\n",
    "\t\treturn True\n",
    "\t\t\n",
    "\tdef close(self):\n",
    "\t\tpass\n",
    "\t\t\n",
    "\tdef get_port(self):\n",
    "\t\treturn \"\"\n",
    "\t\t\n",
    "\tdef get_baudrate(self):\n",
    "\t\treturn 0\n",
    "\t\t\n",
    "\tdef readline(self):\n",
    "\t\ttime_delay = int(3*random.random())+1\n",
    "\t\ttime.sleep(time_delay)\n",
    "\t\treturn self.gen_random_line()\n",
    "\t\t\n",
    "\tdef gen_random_line(self):\n",
    "\t\treturn \"Hee\""
   ]
  },
  {
   "cell_type": "markdown",
   "metadata": {},
   "source": [
    "<h2>Building Serial Ports</h2>"
   ]
  },
  {
   "cell_type": "markdown",
   "metadata": {},
   "source": [
    "<span>\n",
    "In order to build an instance of a SerialPort class, we have 2 options:\n",
    "<ul>\n",
    "<li>Call the constructor directly</li>\n",
    "<li>Use a Builder</li>\n",
    "</ul>\n",
    "</span>\n"
   ]
  },
  {
   "cell_type": "markdown",
   "metadata": {},
   "source": [
    "<h3>Calling the constructor</h3>"
   ]
  },
  {
   "cell_type": "code",
   "execution_count": 2,
   "metadata": {
    "collapsed": false
   },
   "outputs": [],
   "source": [
    "import hit.serial.serial_port\n",
    "\n",
    "port=\"\"\n",
    "baud=0\n",
    "dummySerialPort = hit.serial.serial_port.DummySerialPort(port, baud)"
   ]
  },
  {
   "cell_type": "markdown",
   "metadata": {},
   "source": [
    "<span>\n",
    "The DummSerialPort is very simple. It just says \"Hee\" (after a few seconds) when its method \"readline()\" is called.<br>\n",
    "Port and Baud are useless here.\n",
    "</span>"
   ]
  },
  {
   "cell_type": "code",
   "execution_count": 3,
   "metadata": {
    "collapsed": false
   },
   "outputs": [
    {
     "name": "stdout",
     "output_type": "stream",
     "text": [
      "Hee\n"
     ]
    }
   ],
   "source": [
    "print dummySerialPort.readline()"
   ]
  },
  {
   "cell_type": "markdown",
   "metadata": {},
   "source": [
    "<span>\n",
    "Let's create a more interesting Serialport instance,\n",
    "</span>"
   ]
  },
  {
   "cell_type": "code",
   "execution_count": 4,
   "metadata": {
    "collapsed": false
   },
   "outputs": [],
   "source": [
    "import hit.serial.serial_port\n",
    "\n",
    "port=\"\"\n",
    "baud=0\n",
    "emulatedSerialPort = hit.serial.serial_port.ATTEmulatedSerialPort(port, baud)"
   ]
  },
  {
   "cell_type": "markdown",
   "metadata": {},
   "source": [
    "<span>\n",
    "The ATTEmulatedSerialPort will emulate a real ATT serial port reading.<br>\n",
    "Port and Baud are useless here.\n",
    "</span>"
   ]
  },
  {
   "cell_type": "code",
   "execution_count": 5,
   "metadata": {
    "collapsed": false
   },
   "outputs": [
    {
     "name": "stdout",
     "output_type": "stream",
     "text": [
      "hit: {0 1048 3204 576 196 592 212 1 r}\n"
     ]
    }
   ],
   "source": [
    "print emulatedSerialPort.readline()"
   ]
  },
  {
   "cell_type": "markdown",
   "metadata": {},
   "source": [
    "<h3>Using a Builder</h3>"
   ]
  },
  {
   "cell_type": "markdown",
   "metadata": {},
   "source": [
    "<span>\n",
    "Let's use a builder now.\n",
    "</span>\n",
    "<span>\n",
    "We can choose the builder we want and build as many SerialPorts we want.\n",
    "</span>"
   ]
  },
  {
   "cell_type": "code",
   "execution_count": 6,
   "metadata": {
    "collapsed": false
   },
   "outputs": [],
   "source": [
    "import hit.serial.serial_port_builder\n",
    "\n",
    "builder = hit.serial.serial_port_builder.ATTEmulatedSerialPortBuilder()\n",
    "\n",
    "port=\"\"\n",
    "baud=0\n",
    "\n",
    "emulatedSerialPort1 = builder.build_serial_port(port, baud)\n",
    "emulatedSerialPort2 = builder.build_serial_port(port, baud)\n",
    "emulatedSerialPort3 = builder.build_serial_port(port, baud)\n",
    "emulatedSerialPort4 = builder.build_serial_port(port, baud)\n",
    "emulatedSerialPort5 = builder.build_serial_port(port, baud)\n",
    "emulatedSerialPort6 = builder.build_serial_port(port, baud)\n",
    "emulatedSerialPort7 = builder.build_serial_port(port, baud)"
   ]
  },
  {
   "cell_type": "markdown",
   "metadata": {},
   "source": [
    "<span>\n",
    "And call \"readline()\"\n",
    "</span>"
   ]
  },
  {
   "cell_type": "code",
   "execution_count": 7,
   "metadata": {
    "collapsed": false
   },
   "outputs": [
    {
     "name": "stdout",
     "output_type": "stream",
     "text": [
      "hit: {0 2080 8744 1076 884 1904 1184 1 r}\n"
     ]
    }
   ],
   "source": [
    "print emulatedSerialPort5.readline()"
   ]
  },
  {
   "cell_type": "markdown",
   "metadata": {},
   "source": [
    "<span>\n",
    "There is a special Serial port abstraction that is fed from a file.<br>\n",
    "This is useful when we want to \"mock\" the serial port and give it previously stored readings.\n",
    "</span>\n",
    "<span>\n",
    "This is interesting, for example, in order to reproduce, or visualize the repetition of an interesting set of hits in a game. Because Serial line is Real-Time, there are situations where it is needed to provide the ATT framework with a set of know hits, previously stored.\n",
    "</span>\n"
   ]
  },
  {
   "cell_type": "markdown",
   "metadata": {},
   "source": [
    "<span>\n",
    "We can use the data use in \"Train points importer\".\n",
    "</span>"
   ]
  },
  {
   "cell_type": "code",
   "execution_count": 8,
   "metadata": {
    "collapsed": false
   },
   "outputs": [
    {
     "name": "stdout",
     "output_type": "stream",
     "text": [
      "(6,6)\n",
      "hit: {0:25 1549:4 2757:4 1392:4 2264:7 1764:7 1942:5 2984:5 r}\n",
      "hit: {0:33 1521:6 2712:4 1364:4 2226:10 1894:10 1905:8 2932:5 r}\n",
      "hit: {0:34 1554:7 2766:5 1233:4 2273:10 1766:4 1951:12 2993:4 r}\n",
      "hit: {0:31 1667:6 2878:4 1345:4 2209:4 1880:8 2056:14 2935:4 r}\n",
      "hit: {0:28 1529:6 2737:5 1211:5 2244:9 1735:4 1920:6 2967:4 r}\n",
      "hit: {0:35 1525:8 2720:5 1207:6 2237:10 1744:5 1922:5 2939:5 r}\n",
      "hit: {0:9 1521:10 2746:5 1218:8 2251:9 1744:5 1929:4 2971:4 r}\n",
      "hit: {0:16 1694:6 2910:5 1372:4 2415:8 1913:6 2098:10 2965:4 r}\n",
      "hit: {0:5 1703:6 2911:5 1561:4 2416:9 1402:4 2094:6 3136:5 r}\n"
     ]
    }
   ],
   "source": [
    "!head -10 train_points_import_data/arduino_raw_data.txt"
   ]
  },
  {
   "cell_type": "code",
   "execution_count": 9,
   "metadata": {
    "collapsed": false
   },
   "outputs": [],
   "source": [
    "import hit.serial.serial_port_builder\n",
    "\n",
    "builder = hit.serial.serial_port_builder.ATTHitsFromFilePortBuilder()\n",
    "\n",
    "port=\"train_points_import_data/arduino_raw_data.txt\"\n",
    "baud=0\n",
    "\n",
    "fileSerialPort = builder.build_serial_port(port, baud)"
   ]
  },
  {
   "cell_type": "markdown",
   "metadata": {
    "collapsed": true
   },
   "source": [
    "<span>\n",
    "And now we will read some lines:\n",
    "</span>"
   ]
  },
  {
   "cell_type": "code",
   "execution_count": 12,
   "metadata": {
    "collapsed": false
   },
   "outputs": [
    {
     "name": "stdout",
     "output_type": "stream",
     "text": [
      "hit: {975:5 1515:4 3011:5 827:7 2027:5 0:8 859:14 3408:5 r}\n",
      "hit: {955:5 1502:4 3067:8 807:9 2058:5 0:9 839:16 2780:4 r}\n",
      "hit: {818:4 1336:4 3040:6 666:5 1873:6 0:8 700:19 2747:4 r}\n",
      "hit: {958:6 1483:5 3019:7 824:10 2024:5 0:8 690:4 2733:4 r}\n",
      "hit: {988:5 1526:6 3217:6 838:6 2057:6 0:4 872:19 2093:4 r}\n",
      "hit: {954:5 965:5 2541:7 314:10 1522:5 0:8 171:12 2241:4 r}\n",
      "hit: {962:5 1473:5 3182:5 829:6 2023:6 0:9 861:18 2057:4 r}\n",
      "hit: {779:6 1301:4 3019:7 644:5 1860:6 0:6 678:19 2728:4 r}\n",
      "hit: {1493:4 1848:4 3411:8 1343:5 2215:7 0:13 521:14 1735:4 r}\n",
      "hit: {1325:4 1841:5 3233:6 1175:5 2048:6 0:34 344:16 1581:4 r}\n",
      "hit: {1490:5 1838:5 3357:8 1340:4 2204:6 0:25 514:15 1737:4 r}\n",
      "hit: {1463:6 1824:6 3202:5 1328:4 2022:4 0:32 510:12 1710:4 r}\n",
      "hit: {1491:9 1855:8 3252:7 1167:6 2052:6 0:37 525:11 2265:9 r}\n",
      "hit: {1455:4 1967:5 3325:6 1314:6 2174:7 0:7 505:20 2379:8 r}\n",
      "hit: {1466:5 1829:6 3218:5 1496:5 2030:4 0:30 513:12 1713:4 r}\n",
      "hit: {1488:6 1841:6 2544:4 1170:6 2045:6 0:39 527:13 2250:5 r}\n",
      "hit: {1319:4 1823:7 3209:5 1173:6 2040:5 0:35 357:20 2251:9 r}\n",
      "hit: {1318:5 1865:4 3256:9 1170:7 2060:7 0:41 357:14 1580:4 r}\n",
      "hit: {7103:4 1833:5 3212:7 1168:5 2037:7 0:36 342:21 2249:9 r}\n",
      "hit: {1969:7 2309:7 3731:8 1665:5 2520:6 0:5 854:23 2734:9 r}\n"
     ]
    }
   ],
   "source": [
    "for i in range(20):\n",
    "    print fileSerialPort.readline()"
   ]
  },
  {
   "cell_type": "code",
   "execution_count": null,
   "metadata": {
    "collapsed": true
   },
   "outputs": [],
   "source": []
  }
 ],
 "metadata": {
  "kernelspec": {
   "display_name": "Python 2",
   "language": "python",
   "name": "python2"
  },
  "language_info": {
   "codemirror_mode": {
    "name": "ipython",
    "version": 2
   },
   "file_extension": ".py",
   "mimetype": "text/x-python",
   "name": "python",
   "nbconvert_exporter": "python",
   "pygments_lexer": "ipython2",
   "version": "2.7.11"
  }
 },
 "nbformat": 4,
 "nbformat_minor": 0
}

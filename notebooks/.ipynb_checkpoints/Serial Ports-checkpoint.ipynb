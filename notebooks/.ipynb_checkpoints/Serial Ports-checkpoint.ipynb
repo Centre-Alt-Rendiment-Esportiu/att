{
 "cells": [
  {
   "cell_type": "markdown",
   "metadata": {},
   "source": [
    "<h1>Serial Ports</h1>\n",
    "<hr style=\"border: 1px solid #000;\">\n",
    "<span>\n",
    "<h2>Serial Port abstraction for ATT.</h2>\n",
    "</span>\n",
    "<br>\n",
    "<span>\n",
    "This notebook shows the ATT Serial Port abstraction module.<br>\n",
    "This module was created for enabling testing on ATT framework.\n",
    "The Serial Port abstraction provides an Abstract base class so it can be extended and implement whatever kind of serial port we need.\n",
    "We have used this class hierarchy to build some Mocks, in order to test the ATT framework.\n",
    "</span>\n"
   ]
  },
  {
   "cell_type": "markdown",
   "metadata": {},
   "source": [
    "Set modules path first:"
   ]
  },
  {
   "cell_type": "code",
   "execution_count": 1,
   "metadata": {
    "collapsed": true
   },
   "outputs": [],
   "source": [
    "import sys\n",
    "sys.path.insert(0, '/home/asanso/workspace/att-spyder/att/src/python/')"
   ]
  },
  {
   "cell_type": "markdown",
   "metadata": {},
   "source": [
    "The main abstract base class is the following one:"
   ]
  },
  {
   "cell_type": "markdown",
   "metadata": {},
   "source": [
    "class SerialPort:\n",
    "\t__metaclass__ = abc.ABCMeta\n",
    "\t\n",
    "\t@abc.abstractmethod\n",
    "\tdef isOpen(self):\n",
    "\t\tpass\n",
    "\t\t\n",
    "\t@abc.abstractmethod\n",
    "\tdef readline(self):\n",
    "\t\tpass\n",
    "\t\t\n",
    "\t@abc.abstractmethod\n",
    "\tdef close(self):\n",
    "\t\tpass\n",
    "\t\n",
    "\t@abc.abstractmethod\n",
    "\tdef get_port(self):\n",
    "\t\treturn \"\"\n",
    "\t\t\n",
    "\t@abc.abstractmethod\n",
    "\tdef get_baudrate(self):\n",
    "\t\treturn 0"
   ]
  },
  {
   "cell_type": "markdown",
   "metadata": {},
   "source": [
    "As an example, we can see a dummy implementation:"
   ]
  },
  {
   "cell_type": "markdown",
   "metadata": {},
   "source": [
    "class DummySerialPort (SerialPort):\n",
    "\tdef __init__(self, port = None, baud = None):\n",
    "\t\tpass\n",
    "\t\n",
    "\tdef isOpen(self):\n",
    "\t\treturn True\n",
    "\t\t\n",
    "\tdef close(self):\n",
    "\t\tpass\n",
    "\t\t\n",
    "\tdef get_port(self):\n",
    "\t\treturn \"\"\n",
    "\t\t\n",
    "\tdef get_baudrate(self):\n",
    "\t\treturn 0\n",
    "\t\t\n",
    "\tdef readline(self):\n",
    "\t\ttime_delay = int(3*random.random())+1\n",
    "\t\ttime.sleep(time_delay)\n",
    "\t\treturn self.gen_random_line()\n",
    "\t\t\n",
    "\tdef gen_random_line(self):\n",
    "\t\treturn \"Hee\""
   ]
  },
  {
   "cell_type": "markdown",
   "metadata": {},
   "source": [
    "<h2>Building Serial Ports</h2>"
   ]
  },
  {
   "cell_type": "markdown",
   "metadata": {},
   "source": [
    "<span>\n",
    "In order to build an instance of a SerialPort class, we have 2 options:\n",
    "<ul>\n",
    "<li>Call the constructor directly</li>\n",
    "<li>Use a Builder</li>\n",
    "</ul>\n",
    "</span>\n"
   ]
  },
  {
   "cell_type": "markdown",
   "metadata": {},
   "source": [
    "<h3>Calling the constructor</h3>"
   ]
  },
  {
   "cell_type": "code",
   "execution_count": 2,
   "metadata": {
    "collapsed": false
   },
   "outputs": [],
   "source": [
    "import hit.serial.serial_port\n",
    "\n",
    "port=\"\"\n",
    "baud=0\n",
    "dummySerialPort = hit.serial.serial_port.DummySerialPort(port, baud)"
   ]
  },
  {
   "cell_type": "markdown",
   "metadata": {},
   "source": [
    "<span>\n",
    "The DummSerialPort is very simple. It just says \"Hee\" (after a few seconds) when its method \"readline()\" is called.<br>\n",
    "Port and Baud are useless here.\n",
    "</span>"
   ]
  },
  {
   "cell_type": "code",
   "execution_count": 3,
   "metadata": {
    "collapsed": false
   },
   "outputs": [
    {
     "name": "stdout",
     "output_type": "stream",
     "text": [
      "Hee\n"
     ]
    }
   ],
   "source": [
    "print dummySerialPort.readline()"
   ]
  },
  {
   "cell_type": "markdown",
   "metadata": {},
   "source": [
    "<span>\n",
    "Let's create a more interesting Serialport instance,\n",
    "</span>"
   ]
  },
  {
   "cell_type": "code",
   "execution_count": 4,
   "metadata": {
    "collapsed": true
   },
   "outputs": [],
   "source": [
    "import hit.serial.serial_port\n",
    "\n",
    "port=\"\"\n",
    "baud=0\n",
    "emulatedSerialPort = hit.serial.serial_port.ATTEmulatedSerialPort(port, baud)"
   ]
  },
  {
   "cell_type": "markdown",
   "metadata": {},
   "source": [
    "<span>\n",
    "The ATTEmulatedSerialPort will emulate a real ATT serial port reading.<br>\n",
    "Port and Baud are useless here.\n",
    "</span>"
   ]
  },
  {
   "cell_type": "code",
   "execution_count": 5,
   "metadata": {
    "collapsed": false
   },
   "outputs": [
    {
     "name": "stdout",
     "output_type": "stream",
     "text": [
      "hit: {896 704 3260 2064 332 540 0 1 r}\n"
     ]
    }
   ],
   "source": [
    "print emulatedSerialPort.readline()"
   ]
  },
  {
   "cell_type": "markdown",
   "metadata": {},
   "source": [
    "<h3>Using a Builder</h3>"
   ]
  },
  {
   "cell_type": "markdown",
   "metadata": {},
   "source": [
    "<span>\n",
    "Let's use a builder now.\n",
    "</span>\n",
    "<span>\n",
    "We can choose the builder we want and build as many SerialPorts we want.\n",
    "</span>"
   ]
  },
  {
   "cell_type": "code",
   "execution_count": 6,
   "metadata": {
    "collapsed": false
   },
   "outputs": [],
   "source": [
    "import hit.serial.serial_port_builder\n",
    "\n",
    "builder = hit.serial.serial_port_builder.ATTEmulatedSerialPortBuilder()\n",
    "\n",
    "port=\"\"\n",
    "baud=0\n",
    "\n",
    "emulatedSerialPort1 = builder.build_serial_port(port, baud)\n",
    "emulatedSerialPort2 = builder.build_serial_port(port, baud)\n",
    "emulatedSerialPort3 = builder.build_serial_port(port, baud)\n",
    "emulatedSerialPort4 = builder.build_serial_port(port, baud)\n",
    "emulatedSerialPort5 = builder.build_serial_port(port, baud)\n",
    "emulatedSerialPort6 = builder.build_serial_port(port, baud)\n",
    "emulatedSerialPort7 = builder.build_serial_port(port, baud)"
   ]
  },
  {
   "cell_type": "markdown",
   "metadata": {},
   "source": [
    "<span>\n",
    "And call \"readline()\"\n",
    "</span>"
   ]
  },
  {
   "cell_type": "code",
   "execution_count": 7,
   "metadata": {
    "collapsed": false
   },
   "outputs": [
    {
     "name": "stdout",
     "output_type": "stream",
     "text": [
      "hit: {1704 0 1992 2528 808 636 464 1 r}\n"
     ]
    }
   ],
   "source": [
    "print emulatedSerialPort5.readline()"
   ]
  },
  {
   "cell_type": "markdown",
   "metadata": {},
   "source": [
    "<span>\n",
    "There is a special Serial port abstraction that is fed from a file.<br>\n",
    "This is useful when we want to \"mock\" the serial port and give it previously stored readings.\n",
    "</span>\n",
    "<span>\n",
    "This is interesting, for example, in order to reproduce, or visualize the repetition of an interesting set of hits in a game. Because Serial line is Real-Time, there are situations where it is needed to provide the ATT framework with a set of know hits, previously stored.\n",
    "</span>\n"
   ]
  },
  {
   "cell_type": "markdown",
   "metadata": {},
   "source": [
    "<span>\n",
    "We can use the data use in \"Train points importer\".\n",
    "</span>"
   ]
  },
  {
   "cell_type": "code",
   "execution_count": 8,
   "metadata": {
    "collapsed": false
   },
   "outputs": [
    {
     "name": "stdout",
     "output_type": "stream",
     "text": [
      "(6,6)\r\n",
      "hit: {0:25 1549:4 2757:4 1392:4 2264:7 1764:7 1942:5 2984:5 r}\r\n",
      "hit: {0:33 1521:6 2712:4 1364:4 2226:10 1894:10 1905:8 2932:5 r}\r\n",
      "hit: {0:34 1554:7 2766:5 1233:4 2273:10 1766:4 1951:12 2993:4 r}\r\n",
      "hit: {0:31 1667:6 2878:4 1345:4 2209:4 1880:8 2056:14 2935:4 r}\r\n",
      "hit: {0:28 1529:6 2737:5 1211:5 2244:9 1735:4 1920:6 2967:4 r}\r\n",
      "hit: {0:35 1525:8 2720:5 1207:6 2237:10 1744:5 1922:5 2939:5 r}\r\n",
      "hit: {0:9 1521:10 2746:5 1218:8 2251:9 1744:5 1929:4 2971:4 r}\r\n",
      "hit: {0:16 1694:6 2910:5 1372:4 2415:8 1913:6 2098:10 2965:4 r}\r\n",
      "hit: {0:5 1703:6 2911:5 1561:4 2416:9 1402:4 2094:6 3136:5 r}\r\n"
     ]
    }
   ],
   "source": [
    "!head -10 train_points_import_data/arduino_raw_data.txt"
   ]
  },
  {
   "cell_type": "code",
   "execution_count": 10,
   "metadata": {
    "collapsed": false
   },
   "outputs": [],
   "source": [
    "import hit.serial.serial_port_builder\n",
    "\n",
    "builder = hit.serial.serial_port_builder.ATTHitsFromFilePortBuilder()\n",
    "\n",
    "port=\"train_points_import_data/arduino_raw_data.txt\"\n",
    "baud=0\n",
    "\n",
    "fileSerialPort = builder.build_serial_port(port, baud)"
   ]
  },
  {
   "cell_type": "markdown",
   "metadata": {
    "collapsed": true
   },
   "source": [
    "<span>\n",
    "And now we will read some lines:\n",
    "</span>"
   ]
  },
  {
   "cell_type": "code",
   "execution_count": 13,
   "metadata": {
    "collapsed": false
   },
   "outputs": [
    {
     "name": "stdout",
     "output_type": "stream",
     "text": [
      "hit: {0:34 1554:7 2766:5 1233:4 2273:10 1766:4 1951:12 2993:4 r}\n",
      "hit: {0:31 1667:6 2878:4 1345:4 2209:4 1880:8 2056:14 2935:4 r}\n",
      "hit: {0:28 1529:6 2737:5 1211:5 2244:9 1735:4 1920:6 2967:4 r}\n",
      "hit: {0:35 1525:8 2720:5 1207:6 2237:10 1744:5 1922:5 2939:5 r}\n",
      "hit: {0:9 1521:10 2746:5 1218:8 2251:9 1744:5 1929:4 2971:4 r}\n",
      "hit: {0:16 1694:6 2910:5 1372:4 2415:8 1913:6 2098:10 2965:4 r}\n",
      "hit: {0:5 1703:6 2911:5 1561:4 2416:9 1402:4 2094:6 3136:5 r}\n",
      "hit: {0:25 1690:5 4420:4 1211:4 2230:6 1731:5 1909:4 2930:4 r}\n",
      "hit: {0:23 1676:6 2708:5 1369:4 2237:7 1893:8 2084:17 2939:4 r}\n",
      "hit: {0:6 1684:8 2197:4 1375:4 2403:9 1398:5 2063:9 2959:4 r}\n",
      "hit: {0:34 1540:7 2729:5 1221:4 2252:10 1244:4 1938:7 2954:5 r}\n",
      "hit: {146:13 1361:5 2055:4 0:7 1395:8 202:20 565:10 2456:4 r}\n",
      "hit: {322:15 1509:5 1520:5 0:10 1368:6 197:17 552:10 2929:4 r}\n",
      "hit: {146:7 1352:7 1528:4 0:12 1206:5 202:18 558:10 2945:7 r}\n",
      "hit: {148:10 1387:5 1398:5 0:9 1237:5 23:7 569:18 2844:4 r}\n",
      "hit: {298:17 1321:5 1499:5 0:12 1175:4 188:19 527:11 2915:6 r}\n",
      "hit: {131:7 311:4 1509:4 0:12 1197:4 184:20 547:13 2945:9 r}\n",
      "hit: {131:14 306:4 1340:4 0:9 1363:7 184:16 525:10 2448:4 r}\n",
      "hit: {298:16 1332:5 1519:4 0:12 1186:4 187:19 525:11 2913:6 r}\n",
      "hit: {137:12 311:5 1492:5 0:13 1170:5 190:21 530:12 2906:8 r}\n"
     ]
    }
   ],
   "source": [
    "for i in range(20):\n",
    "    print fileSerialPort.readline()"
   ]
  },
  {
   "cell_type": "code",
   "execution_count": null,
   "metadata": {
    "collapsed": true
   },
   "outputs": [],
   "source": []
  }
 ],
 "metadata": {
  "kernelspec": {
   "display_name": "Python 2",
   "language": "python",
   "name": "python2"
  },
  "language_info": {
   "codemirror_mode": {
    "name": "ipython",
    "version": 2
   },
   "file_extension": ".py",
   "mimetype": "text/x-python",
   "name": "python",
   "nbconvert_exporter": "python",
   "pygments_lexer": "ipython2",
   "version": "2.7.11"
  }
 },
 "nbformat": 4,
 "nbformat_minor": 0
}

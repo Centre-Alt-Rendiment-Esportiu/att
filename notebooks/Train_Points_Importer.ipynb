{
 "cells": [
  {
   "cell_type": "markdown",
   "metadata": {},
   "source": [
    "<h1>Train Points Importer</h1>\n",
    "<hr style=\"border: 1px solid #000;\">\n",
    "<span>\n",
    "<h2>\n",
    "Import Tool for transforming collected hits from Arduino serial port, to ATT readable hit format.\n",
    "</h2>\n",
    "<span>\n",
    "<br>\n",
    "</span>\n",
    "<i>Import points from arduino format</i><br>\n",
    "<br>\n",
    "SOURCE FORMAT:<br>\n",
    "   \"hit: { [tstamp]:[level] [tstamp]:[level] ... [tstamp]:[level] [side]}\"<br>\n",
    "   from file: src/arduino/data/[file]<br>\n",
    "<br>\n",
    "<i>To internal format</i><br>\n",
    "<br>\n",
    "TARGET FORMAT:<br>\n",
    "   \"[x_coord],[y_coord],[tstamp],[tstamp], ... ,[tstamp]\"<br>\n",
    "   to file: src/python/data/[file]<br>\n",
    "</span>"
   ]
  },
  {
   "cell_type": "markdown",
   "metadata": {},
   "source": [
    "<hr>\n",
    "<h2>Abstract</h2>\n",
    "<br>\n",
    "<span>\n",
    "Let's have a look at the raw data,\n",
    "</span>"
   ]
  },
  {
   "cell_type": "code",
   "execution_count": 1,
   "metadata": {
    "collapsed": false
   },
   "outputs": [
    {
     "name": "stdout",
     "output_type": "stream",
     "text": [
      "(6,6)\r\n",
      "hit: {0:25 1549:4 2757:4 1392:4 2264:7 1764:7 1942:5 2984:5 r}\r\n",
      "hit: {0:33 1521:6 2712:4 1364:4 2226:10 1894:10 1905:8 2932:5 r}\r\n",
      "hit: {0:34 1554:7 2766:5 1233:4 2273:10 1766:4 1951:12 2993:4 r}\r\n",
      "hit: {0:31 1667:6 2878:4 1345:4 2209:4 1880:8 2056:14 2935:4 r}\r\n",
      "hit: {0:28 1529:6 2737:5 1211:5 2244:9 1735:4 1920:6 2967:4 r}\r\n",
      "hit: {0:35 1525:8 2720:5 1207:6 2237:10 1744:5 1922:5 2939:5 r}\r\n",
      "hit: {0:9 1521:10 2746:5 1218:8 2251:9 1744:5 1929:4 2971:4 r}\r\n",
      "hit: {0:16 1694:6 2910:5 1372:4 2415:8 1913:6 2098:10 2965:4 r}\r\n",
      "hit: {0:5 1703:6 2911:5 1561:4 2416:9 1402:4 2094:6 3136:5 r}\r\n"
     ]
    }
   ],
   "source": [
    "!head -10 train_points_import_data/arduino_raw_data.txt"
   ]
  },
  {
   "cell_type": "markdown",
   "metadata": {},
   "source": [
    "<span>\n",
    "We want to have this data in a more standard format, a CSV file for instance. More like this way:\n",
    "</span>"
   ]
  },
  {
   "cell_type": "code",
   "execution_count": 2,
   "metadata": {
    "collapsed": false
   },
   "outputs": [
    {
     "name": "stdout",
     "output_type": "stream",
     "text": [
      "6,6,0,1549,2757,1392,2264,1764,1942,2984\r\n",
      "6,6,0,1521,2712,1364,2226,1894,1905,2932\r\n",
      "6,6,0,1554,2766,1233,2273,1766,1951,2993\r\n",
      "6,6,0,1667,2878,1345,2209,1880,2056,2935\r\n",
      "6,6,0,1529,2737,1211,2244,1735,1920,2967\r\n",
      "6,6,0,1525,2720,1207,2237,1744,1922,2939\r\n",
      "6,6,0,1521,2746,1218,2251,1744,1929,2971\r\n",
      "6,6,0,1694,2910,1372,2415,1913,2098,2965\r\n",
      "6,6,0,1703,2911,1561,2416,1402,2094,3136\r\n",
      "6,6,0,1690,4420,1211,2230,1731,1909,2930\r\n"
     ]
    }
   ],
   "source": [
    "!head -10 train_points_import_data/processed_data.csv"
   ]
  },
  {
   "cell_type": "markdown",
   "metadata": {},
   "source": [
    "<span>\n",
    "<h2>Data cleaning and preparation</h2>\n",
    "</span>\n",
    "<br>\n",
    "<span>\n",
    "We are going to create an importer and import the data from the Arduino raw serial into a more readable format, CSV.\n",
    "</span>\n",
    "<br><br>\n",
    "<span>\n",
    "First, set libraries path and import the Importer module\n",
    "</span>\n",
    "<br>"
   ]
  },
  {
   "cell_type": "code",
   "execution_count": 3,
   "metadata": {
    "collapsed": false
   },
   "outputs": [],
   "source": [
    "# Import points from arduino format:\n",
    "# \n",
    "#   \"hit: { [tstamp]:[level] [tstamp]:[level] ... [tstamp]:[level] [side]}\"\n",
    "#   from file: src/arduino/data/[file]\n",
    "#\n",
    "# To internal format:\n",
    "#   \"[x_coord],[y_coord],[tstamp],[tstamp], ... ,[tstamp]\"\n",
    "#   to file: src/python/data/[file]\n",
    "\n",
    "import sys\n",
    "sys.path.insert(0, '/home/asanso/workspace/att-spyder/att/src/python/')\n",
    "\n",
    "\n",
    "import hit.importer.train_points_importer as imp\n"
   ]
  },
  {
   "cell_type": "markdown",
   "metadata": {},
   "source": [
    "<span>\n",
    "Create an Importer instance now:\n",
    "</span>"
   ]
  },
  {
   "cell_type": "code",
   "execution_count": 4,
   "metadata": {
    "collapsed": true
   },
   "outputs": [],
   "source": [
    "importer = imp.TrainPointsImporter()"
   ]
  },
  {
   "cell_type": "markdown",
   "metadata": {},
   "source": [
    "<span>\n",
    "Now it is time to set some paths, in order to point the source raw data files and the target CSV files:\n",
    "</span>"
   ]
  },
  {
   "cell_type": "code",
   "execution_count": 5,
   "metadata": {
    "collapsed": true
   },
   "outputs": [],
   "source": [
    "str_left_input_file = \"../src/arduino/data/train_20160129_left.txt\"\n",
    "str_left_output_file = \"../src/python/data/train_points_20160129_left.txt\""
   ]
  },
  {
   "cell_type": "markdown",
   "metadata": {},
   "source": [
    "<span>\n",
    "That was for the left-side collected hit info.\n",
    "</span>"
   ]
  },
  {
   "cell_type": "code",
   "execution_count": 6,
   "metadata": {
    "collapsed": true
   },
   "outputs": [],
   "source": [
    "str_right_input_file = \"../src/arduino/data/train_20160129_right.txt\"\n",
    "str_right_output_file = \"../src/python/data/train_points_20160129_right.txt\""
   ]
  },
  {
   "cell_type": "markdown",
   "metadata": {},
   "source": [
    "<span>\n",
    "That was for the right-side collected hit info.\n",
    "</span>\n",
    "<br>\n",
    "<span>\n",
    "Let's do the left-side import now:\n",
    "</span>"
   ]
  },
  {
   "cell_type": "code",
   "execution_count": 7,
   "metadata": {
    "collapsed": true
   },
   "outputs": [],
   "source": [
    "importer.from_file_to_file(str_left_input_file, str_left_output_file)"
   ]
  },
  {
   "cell_type": "markdown",
   "metadata": {},
   "source": [
    "And the right-side import now:"
   ]
  },
  {
   "cell_type": "code",
   "execution_count": 8,
   "metadata": {
    "collapsed": true
   },
   "outputs": [],
   "source": [
    "\n",
    "importer.from_file_to_file(str_right_input_file, str_right_output_file)"
   ]
  },
  {
   "cell_type": "code",
   "execution_count": null,
   "metadata": {
    "collapsed": true
   },
   "outputs": [],
   "source": []
  }
 ],
 "metadata": {
  "kernelspec": {
   "display_name": "Python 2",
   "language": "python",
   "name": "python2"
  },
  "language_info": {
   "codemirror_mode": {
    "name": "ipython",
    "version": 2
   },
   "file_extension": ".py",
   "mimetype": "text/x-python",
   "name": "python",
   "nbconvert_exporter": "python",
   "pygments_lexer": "ipython2",
   "version": "2.7.11"
  }
 },
 "nbformat": 4,
 "nbformat_minor": 0
}

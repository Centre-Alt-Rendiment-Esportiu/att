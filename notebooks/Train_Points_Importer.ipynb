{
 "cells": [
  {
   "cell_type": "code",
   "execution_count": 16,
   "metadata": {
    "collapsed": false
   },
   "outputs": [],
   "source": [
    "# Import points from arduino format:\n",
    "#   \"hit: { [tstamp]:[level] [tstamp]:[level] ... [tstamp]:[level] [side]}\"\n",
    "#   from file: src/arduino/data/[file]\n",
    "#\n",
    "# To internal format:\n",
    "#   \"[tstamp],[tstamp], ... ,[tstamp],([x_coord],[y_coord])\"\n",
    "#   to file: src/python/data/[file]\n",
    "\n",
    "import sys\n",
    "sys.path.insert(0, '/home/asanso/workspace/att-spyder/att/src/python/')\n",
    "\n",
    "\n",
    "import hit.importer.train_points_importer as imp\n",
    "\n",
    "importer = imp.TrainPointsImporter()\n",
    "\n",
    "\n",
    "str_input_file = \"../src/arduino/data/train_points_references.txt\"\n",
    "str_output_file = \"../src/python/data/train_points_1.txt\"\n",
    "importer.from_file_to_file(str_input_file, str_output_file)\n",
    "\n",
    "\n",
    "str_input_file = \"../src/arduino/data/train_points_references_and_mid.txt\"\n",
    "str_output_file = \"../src/python/data/train_points_2.txt\"\n",
    "importer.from_file_to_file(str_input_file, str_output_file)\n",
    "\n"
   ]
  },
  {
   "cell_type": "code",
   "execution_count": null,
   "metadata": {
    "collapsed": true
   },
   "outputs": [],
   "source": []
  }
 ],
 "metadata": {
  "kernelspec": {
   "display_name": "Python 2",
   "language": "python",
   "name": "python2"
  },
  "language_info": {
   "codemirror_mode": {
    "name": "ipython",
    "version": 2
   },
   "file_extension": ".py",
   "mimetype": "text/x-python",
   "name": "python",
   "nbconvert_exporter": "python",
   "pygments_lexer": "ipython2",
   "version": "2.7.11"
  }
 },
 "nbformat": 4,
 "nbformat_minor": 0
}

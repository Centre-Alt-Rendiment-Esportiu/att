{
 "cells": [
  {
   "cell_type": "markdown",
   "metadata": {},
   "source": [
    "<h1>Serial Ports</h1>\n",
    "<hr style=\"border: 1px solid #000;\">\n",
    "<span>\n",
    "<h2>Serial Port abstraction for ATT.</h2>\n",
    "</span>\n",
    "<br>\n",
    "<span>\n",
    "This notebook shows the ATT Serial Port abstraction module.<br>\n",
    "This module was created for enabling testing on ATT framework.\n",
    "The Serial Port abstraction provides an Abstract base class so it can be extended and implement whatever kind of serial port we need.\n",
    "We have used this class hierarchy to build some Mocks, in order to test the ATT framework.\n",
    "</span>\n"
   ]
  },
  {
   "cell_type": "markdown",
   "metadata": {},
   "source": [
    "Set modules path first:"
   ]
  },
  {
   "cell_type": "code",
   "execution_count": 12,
   "metadata": {
    "collapsed": true
   },
   "outputs": [],
   "source": [
    "import sys\n",
    "sys.path.insert(0, '/home/asanso/workspace/att-spyder/att/src/python/')"
   ]
  },
  {
   "cell_type": "markdown",
   "metadata": {},
   "source": [
    "The main abstract base class is the following one:"
   ]
  },
  {
   "cell_type": "markdown",
   "metadata": {},
   "source": [
    "class SerialPort:\n",
    "\t__metaclass__ = abc.ABCMeta\n",
    "\t\n",
    "\t@abc.abstractmethod\n",
    "\tdef isOpen(self):\n",
    "\t\tpass\n",
    "\t\t\n",
    "\t@abc.abstractmethod\n",
    "\tdef readline(self):\n",
    "\t\tpass\n",
    "\t\t\n",
    "\t@abc.abstractmethod\n",
    "\tdef close(self):\n",
    "\t\tpass\n",
    "\t\n",
    "\t@abc.abstractmethod\n",
    "\tdef get_port(self):\n",
    "\t\treturn \"\"\n",
    "\t\t\n",
    "\t@abc.abstractmethod\n",
    "\tdef get_baudrate(self):\n",
    "\t\treturn 0"
   ]
  },
  {
   "cell_type": "markdown",
   "metadata": {},
   "source": [
    "As an example, we can see a dummy implementation:"
   ]
  },
  {
   "cell_type": "markdown",
   "metadata": {},
   "source": [
    "class DummySerialPort (SerialPort):\n",
    "\tdef __init__(self, port = None, baud = None):\n",
    "\t\tpass\n",
    "\t\n",
    "\tdef isOpen(self):\n",
    "\t\treturn True\n",
    "\t\t\n",
    "\tdef close(self):\n",
    "\t\tpass\n",
    "\t\t\n",
    "\tdef get_port(self):\n",
    "\t\treturn \"\"\n",
    "\t\t\n",
    "\tdef get_baudrate(self):\n",
    "\t\treturn 0\n",
    "\t\t\n",
    "\tdef readline(self):\n",
    "\t\ttime_delay = int(3*random.random())+1\n",
    "\t\ttime.sleep(time_delay)\n",
    "\t\treturn self.gen_random_line()\n",
    "\t\t\n",
    "\tdef gen_random_line(self):\n",
    "\t\treturn \"Hee\""
   ]
  },
  {
   "cell_type": "markdown",
   "metadata": {},
   "source": [
    "<h2>Building Serial Ports</h2>"
   ]
  },
  {
   "cell_type": "markdown",
   "metadata": {},
   "source": [
    "<span>\n",
    "In order to build an instance of a SerialPort class, we have 2 options:\n",
    "<ul>\n",
    "<li>Call the constructor directly</li>\n",
    "<li>Use a Builder</li>\n",
    "</ul>\n",
    "</span>\n"
   ]
  },
  {
   "cell_type": "markdown",
   "metadata": {},
   "source": [
    "<h3>Calling the constructor</h3>"
   ]
  },
  {
   "cell_type": "code",
   "execution_count": 22,
   "metadata": {
    "collapsed": false
   },
   "outputs": [],
   "source": [
    "import hit.serial.serial_port\n",
    "\n",
    "port=\"\"\n",
    "baud=0\n",
    "dummySerialPort = hit.serial.serial_port.DummySerialPort(port, baud)"
   ]
  },
  {
   "cell_type": "markdown",
   "metadata": {},
   "source": [
    "<span>\n",
    "The DummSerialPort is very simple. It just says \"Hee\" (after a few seconds) when its method \"readline()\" is called.<br>\n",
    "Port and Baud are useless here.\n",
    "</span>"
   ]
  },
  {
   "cell_type": "code",
   "execution_count": 23,
   "metadata": {
    "collapsed": false
   },
   "outputs": [
    {
     "name": "stdout",
     "output_type": "stream",
     "text": [
      "Hee\n"
     ]
    }
   ],
   "source": [
    "print dummySerialPort.readline()"
   ]
  },
  {
   "cell_type": "markdown",
   "metadata": {},
   "source": [
    "<span>\n",
    "Let's create a more interesting Serialport instance,\n",
    "</span>"
   ]
  },
  {
   "cell_type": "code",
   "execution_count": 24,
   "metadata": {
    "collapsed": false
   },
   "outputs": [],
   "source": [
    "import hit.serial.serial_port\n",
    "\n",
    "port=\"\"\n",
    "baud=0\n",
    "emulatedSerialPort = hit.serial.serial_port.ATTEmulatedSerialPort(port, baud)"
   ]
  },
  {
   "cell_type": "markdown",
   "metadata": {},
   "source": [
    "<span>\n",
    "The ATTEmulatedSerialPort will emulate a real ATT serial port reading.<br>\n",
    "Port and Baud are useless here.\n",
    "</span>"
   ]
  },
  {
   "cell_type": "code",
   "execution_count": 25,
   "metadata": {
    "collapsed": false
   },
   "outputs": [
    {
     "name": "stdout",
     "output_type": "stream",
     "text": [
      "hit: {1636 0 1104 2928 652 460 568 1 r}\n"
     ]
    }
   ],
   "source": [
    "print emulatedSerialPort.readline()"
   ]
  },
  {
   "cell_type": "markdown",
   "metadata": {},
   "source": [
    "<h3>Using a Builder</h3>"
   ]
  },
  {
   "cell_type": "markdown",
   "metadata": {},
   "source": [
    "<span>\n",
    "Let's use a builder now.\n",
    "</span>\n",
    "<span>\n",
    "We can choose the builder we want and build as many SerialPorts we want.\n",
    "</span>"
   ]
  },
  {
   "cell_type": "code",
   "execution_count": 26,
   "metadata": {
    "collapsed": false
   },
   "outputs": [],
   "source": [
    "import hit.serial.serial_port_builder\n",
    "\n",
    "builder = hit.serial.serial_port_builder.ATTEmulatedSerialPortBuilder()\n",
    "\n",
    "port=\"\"\n",
    "baud=0\n",
    "\n",
    "emulatedSerialPort1 = builder.build_serial_port(port, baud)\n",
    "emulatedSerialPort2 = builder.build_serial_port(port, baud)\n",
    "emulatedSerialPort3 = builder.build_serial_port(port, baud)\n",
    "emulatedSerialPort4 = builder.build_serial_port(port, baud)\n",
    "emulatedSerialPort5 = builder.build_serial_port(port, baud)\n",
    "emulatedSerialPort6 = builder.build_serial_port(port, baud)\n",
    "emulatedSerialPort7 = builder.build_serial_port(port, baud)"
   ]
  },
  {
   "cell_type": "markdown",
   "metadata": {},
   "source": [
    "<span>\n",
    "And call \"readline()\"\n",
    "</span>"
   ]
  },
  {
   "cell_type": "code",
   "execution_count": 27,
   "metadata": {
    "collapsed": false
   },
   "outputs": [
    {
     "name": "stdout",
     "output_type": "stream",
     "text": [
      "hit: {0 2080 3824 3132 884 1812 1088 1 r}\n"
     ]
    }
   ],
   "source": [
    "print emulatedSerialPort5.readline()"
   ]
  },
  {
   "cell_type": "markdown",
   "metadata": {},
   "source": [
    "<span>\n",
    "There is a special Serial port abstraction that is fed from a file.<br>\n",
    "This is useful when we want to \"mock\" the serial port and give it previously stored readings.\n",
    "</span>\n",
    "<span>\n",
    "This is interesting, for example, in order to reproduce, or visualize the repetition of an interesting set of hits in a game. Because Serial line is Real-Time, there are situations where it is needed to provide the ATT framework with a set of know hits, previously stored.\n",
    "</span>\n"
   ]
  },
  {
   "cell_type": "markdown",
   "metadata": {},
   "source": [
    "<span>\n",
    "We can use the data use in \"Train points importer\".\n",
    "</span>"
   ]
  },
  {
   "cell_type": "code",
   "execution_count": 28,
   "metadata": {
    "collapsed": false
   },
   "outputs": [
    {
     "name": "stdout",
     "output_type": "stream",
     "text": [
      "(6,6)\r\n",
      "hit: {0:25 1549:4 2757:4 1392:4 2264:7 1764:7 1942:5 2984:5 r}\r\n",
      "hit: {0:33 1521:6 2712:4 1364:4 2226:10 1894:10 1905:8 2932:5 r}\r\n",
      "hit: {0:34 1554:7 2766:5 1233:4 2273:10 1766:4 1951:12 2993:4 r}\r\n",
      "hit: {0:31 1667:6 2878:4 1345:4 2209:4 1880:8 2056:14 2935:4 r}\r\n",
      "hit: {0:28 1529:6 2737:5 1211:5 2244:9 1735:4 1920:6 2967:4 r}\r\n",
      "hit: {0:35 1525:8 2720:5 1207:6 2237:10 1744:5 1922:5 2939:5 r}\r\n",
      "hit: {0:9 1521:10 2746:5 1218:8 2251:9 1744:5 1929:4 2971:4 r}\r\n",
      "hit: {0:16 1694:6 2910:5 1372:4 2415:8 1913:6 2098:10 2965:4 r}\r\n",
      "hit: {0:5 1703:6 2911:5 1561:4 2416:9 1402:4 2094:6 3136:5 r}\r\n"
     ]
    }
   ],
   "source": [
    "!head -10 train_points_import_data/arduino_raw_data.txt"
   ]
  },
  {
   "cell_type": "code",
   "execution_count": 29,
   "metadata": {
    "collapsed": false
   },
   "outputs": [],
   "source": [
    "import hit.serial.serial_port_builder\n",
    "\n",
    "builder = hit.serial.serial_port_builder.ATTHitsFromFilePortBuilder()\n",
    "\n",
    "port=\"train_points_import_data/arduino_raw_data.txt\"\n",
    "baud=0\n",
    "\n",
    "fileSerialPort = builder.build_serial_port(port, baud)"
   ]
  },
  {
   "cell_type": "markdown",
   "metadata": {
    "collapsed": true
   },
   "source": [
    "<span>\n",
    "And now we will read some lines:\n",
    "</span>"
   ]
  },
  {
   "cell_type": "code",
   "execution_count": 31,
   "metadata": {
    "collapsed": false
   },
   "outputs": [
    {
     "name": "stdout",
     "output_type": "stream",
     "text": [
      "hit: {298:16 1332:5 1519:4 0:12 1186:4 187:19 525:11 2913:6 r}\n",
      "hit: {137:12 311:5 1492:5 0:13 1170:5 190:21 530:12 2906:8 r}\n",
      "hit: {298:17 1491:5 1503:5 0:11 1342:6 188:18 523:8 2898:4 r}\n",
      "hit: {0:12 372:4 1401:5 34:15 1255:7 57:21 595:20 2485:7 r}\n",
      "hit: {148:9 340:4 1379:4 0:10 1220:4 204:15 568:18 2963:6 r}\n",
      "hit: {146:4 1347:4 1537:4 0:9 1380:6 202:17 550:8 2978:6 r}\n",
      "hit: {321:16 332:4 2044:8 0:12 1224:5 196:19 567:12 2958:8 r}\n",
      "hit: {319:12 1362:7 1543:5 0:13 1228:5 194:21 565:18 2964:8 r}\n",
      "hit: {992:5 1525:4 3046:6 842:10 1886:4 0:8 876:10 2755:4 r}\n",
      "hit: {965:5 1323:4 3077:9 661:5 1866:5 0:7 695:11 2786:4 r}\n",
      "hit: {973:6 1502:5 3236:8 1007:8 2045:5 0:6 858:23 2081:4 r}\n",
      "hit: {963:6 1477:5 3161:6 815:7 1994:5 0:7 847:14 3390:4 r}\n",
      "hit: {957:7 1473:6 3170:8 824:8 2018:6 0:9 856:15 3399:5 r}\n",
      "hit: {943:4 1628:4 3189:7 972:10 1991:4 0:4 841:18 2897:4 r}\n",
      "hit: {970:6 1489:5 3050:4 828:6 2046:6 0:4 860:25 2082:4 r}\n",
      "hit: {966:7 1486:6 3033:6 818:8 2041:5 0:6 850:26 2077:4 r}\n",
      "hit: {977:5 1503:7 3027:4 842:7 2031:6 0:8 874:16 3425:4 r}\n",
      "hit: {950:7 1485:5 3031:9 646:4 1840:6 0:7 680:8 2736:4 r}\n",
      "hit: {1109:6 1631:5 3168:7 805:4 1983:4 0:4 839:20 2875:4 r}\n",
      "hit: {964:5 1467:4 3016:6 819:9 1847:4 0:4 685:17 2737:4 r}\n"
     ]
    }
   ],
   "source": [
    "for i in range(20):\n",
    "    print fileSerialPort.readline()"
   ]
  },
  {
   "cell_type": "code",
   "execution_count": null,
   "metadata": {
    "collapsed": true
   },
   "outputs": [],
   "source": []
  }
 ],
 "metadata": {
  "kernelspec": {
   "display_name": "Python 2",
   "language": "python",
   "name": "python2"
  },
  "language_info": {
   "codemirror_mode": {
    "name": "ipython",
    "version": 2
   },
   "file_extension": ".py",
   "mimetype": "text/x-python",
   "name": "python",
   "nbconvert_exporter": "python",
   "pygments_lexer": "ipython2",
   "version": "2.7.11"
  }
 },
 "nbformat": 4,
 "nbformat_minor": 0
}

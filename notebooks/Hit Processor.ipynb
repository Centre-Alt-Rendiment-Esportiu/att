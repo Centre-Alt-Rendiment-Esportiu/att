{
 "cells": [
  {
   "cell_type": "markdown",
   "metadata": {},
   "source": [
    "<h1>Hit Processor</h1>\n",
    "<hr style=\"border: 1px solid #000;\">\n",
    "<span>\n",
    "<h2>ATT raw Hit processor.</h2>\n",
    "</span>\n",
    "<br>\n",
    "<span>\n",
    "This notebook shows how the hit processor works.<br>\n",
    "The Hit processors aim is to parse the raw hit readings from the serial port.\n",
    "</span>"
   ]
  },
  {
   "cell_type": "markdown",
   "metadata": {},
   "source": [
    "<span>\n",
    "Set modules path first:\n",
    "</span>"
   ]
  },
  {
   "cell_type": "code",
   "execution_count": 1,
   "metadata": {
    "collapsed": true
   },
   "outputs": [],
   "source": [
    "import sys\n",
    "sys.path.insert(0, '/home/asanso/workspace/att-spyder/att/src/python/')"
   ]
  },
  {
   "cell_type": "markdown",
   "metadata": {},
   "source": [
    "<span>\n",
    "Let's parse\n",
    "</span>"
   ]
  },
  {
   "cell_type": "code",
   "execution_count": 4,
   "metadata": {
    "collapsed": true
   },
   "outputs": [],
   "source": [
    "from hit.process.processor import ATTMatrixHitProcessor\n",
    "from hit.process.processor import ATTPlainHitProcessor\n",
    "\n",
    "plainProcessor = ATTPlainHitProcessor()\n",
    "matProcessor = ATTMatrixHitProcessor()"
   ]
  },
  {
   "cell_type": "markdown",
   "metadata": {},
   "source": [
    "<span>\n",
    "Parse a Hit with Plain Processor\n",
    "</span>"
   ]
  },
  {
   "cell_type": "code",
   "execution_count": 8,
   "metadata": {
    "collapsed": false
   },
   "outputs": [
    {
     "name": "stdout",
     "output_type": "stream",
     "text": [
      "{'sensor_timings': ['0', '1549', '2757', '1392', '2264', '1764', '1942', '2984'], 'side': 'r', 'sensor_values': ['25', '4', '4', '4', '7', '7', '5', '5']}\n"
     ]
    }
   ],
   "source": [
    "plainHit = plainProcessor.parse_hit(\"hit: {0:25 1549:4 2757:4 1392:4 2264:7 1764:7 1942:5 2984:5 r}\")\n",
    "print plainHit"
   ]
  },
  {
   "cell_type": "markdown",
   "metadata": {},
   "source": [
    "<span>\n",
    "Compute diffs:\n",
    "</span>"
   ]
  },
  {
   "cell_type": "code",
   "execution_count": 11,
   "metadata": {
    "collapsed": false
   },
   "outputs": [
    {
     "name": "stdout",
     "output_type": "stream",
     "text": [
      "[-1549. -2757. -1392. -2264. -1764. -1942. -2984. -1208.   157.  -715.\n",
      "  -215.  -393. -1435.  1365.   493.   993.   815.  -227.  -872.  -372.\n",
      "  -550. -1592.   500.   322.  -720.  -178. -1220. -1042.]\n"
     ]
    }
   ],
   "source": [
    "plainDiffs = plainProcessor.hit_diffs(plainHit[\"sensor_timings\"])\n",
    "print plainDiffs"
   ]
  },
  {
   "cell_type": "markdown",
   "metadata": {},
   "source": [
    "<span>\n",
    "Parse a Hit with Matrix Processor\n",
    "</span>"
   ]
  },
  {
   "cell_type": "code",
   "execution_count": 7,
   "metadata": {
    "collapsed": false
   },
   "outputs": [
    {
     "name": "stdout",
     "output_type": "stream",
     "text": [
      "{'sensor_timings': ['0', '1549', '2757', '1392', '2264', '1764', '1942', '2984'], 'side': 'r', 'sensor_values': ['25', '4', '4', '4', '7', '7', '5', '5']}\n"
     ]
    }
   ],
   "source": [
    "matHit = matProcessor.parse_hit(\"hit: {0:25 1549:4 2757:4 1392:4 2264:7 1764:7 1942:5 2984:5 r}\")\n",
    "print matHit"
   ]
  },
  {
   "cell_type": "markdown",
   "metadata": {},
   "source": [
    "<span>\n",
    "Compute diffs:\n",
    "</span>"
   ]
  },
  {
   "cell_type": "code",
   "execution_count": 12,
   "metadata": {
    "collapsed": false
   },
   "outputs": [
    {
     "name": "stdout",
     "output_type": "stream",
     "text": [
      "[[    0. -1549. -2757. -1392. -2264. -1764. -1942. -2984.]\n",
      " [-1549.     0. -1208.   157.  -715.  -215.  -393. -1435.]\n",
      " [-2757. -1208.     0.  1365.   493.   993.   815.  -227.]\n",
      " [-1392.   157.  1365.     0.  -872.  -372.  -550. -1592.]\n",
      " [-2264.  -715.   493.  -872.     0.   500.   322.  -720.]\n",
      " [-1764.  -215.   993.  -372.   500.     0.  -178. -1220.]\n",
      " [-1942.  -393.   815.  -550.   322.  -178.     0. -1042.]\n",
      " [-2984. -1435.  -227. -1592.  -720. -1220. -1042.     0.]]\n"
     ]
    }
   ],
   "source": [
    "matDiffs = matProcessor.hit_diffs((matHit[\"sensor_timings\"]))\n",
    "print matDiffs"
   ]
  },
  {
   "cell_type": "code",
   "execution_count": null,
   "metadata": {
    "collapsed": true
   },
   "outputs": [],
   "source": []
  }
 ],
 "metadata": {
  "kernelspec": {
   "display_name": "Python 2",
   "language": "python",
   "name": "python2"
  },
  "language_info": {
   "codemirror_mode": {
    "name": "ipython",
    "version": 2
   },
   "file_extension": ".py",
   "mimetype": "text/x-python",
   "name": "python",
   "nbconvert_exporter": "python",
   "pygments_lexer": "ipython2",
   "version": "2.7.11"
  }
 },
 "nbformat": 4,
 "nbformat_minor": 0
}
